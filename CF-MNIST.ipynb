{
 "cells": [
  {
   "cell_type": "code",
   "execution_count": 11,
   "metadata": {},
   "outputs": [],
   "source": [
    "import torch\n",
    "import torch.nn as nn\n",
    "import torch.optim as optim\n",
    "import torchvision\n",
    "import torchvision.transforms as transforms\n",
    "import matplotlib.pyplot as plt\n",
    "from torch.utils.data import DataLoader, Subset\n",
    "from torchvision import datasets"
   ]
  },
  {
   "cell_type": "code",
   "execution_count": 4,
   "metadata": {},
   "outputs": [
    {
     "name": "stderr",
     "output_type": "stream",
     "text": [
      "100%|██████████| 9.91M/9.91M [00:01<00:00, 7.54MB/s]\n",
      "100%|██████████| 28.9k/28.9k [00:00<00:00, 253kB/s]\n",
      "100%|██████████| 1.65M/1.65M [00:00<00:00, 2.38MB/s]\n",
      "100%|██████████| 4.54k/4.54k [00:00<00:00, 3.38MB/s]\n"
     ]
    },
    {
     "name": "stdout",
     "output_type": "stream",
     "text": [
      "torch.Size([54000, 784])\n"
     ]
    }
   ],
   "source": [
    "BATCH_SIZE  =32\n",
    "mnist_transforms = transforms.Compose([transforms.ToTensor()])\n",
    "train_val_dataset = datasets.MNIST(root=\"./datasets/\", train=True, download=True, transform=mnist_transforms)\n",
    "test_dataset = datasets.MNIST(root=\"./datasets/\", train=False, download=True, transform=mnist_transforms)\n",
    "train_size = int(0.9 * len(train_val_dataset))\n",
    "val_size = len(train_val_dataset) - train_size\n",
    "train_dataset, val_dataset = torch.utils.data.random_split(dataset=train_val_dataset, lengths=[train_size, val_size])\n",
    "train_dataloader = DataLoader(dataset=train_dataset, batch_size=BATCH_SIZE, shuffle=True)\n",
    "val_dataloader = DataLoader(dataset=val_dataset, batch_size=BATCH_SIZE, shuffle=True)\n",
    "test_dataloader = DataLoader(dataset=test_dataset, batch_size=BATCH_SIZE, shuffle=True)\n",
    "\n",
    "all_batches = []\n",
    "all_labels =[]\n",
    "\n",
    "torch.manual_seed(10)\n",
    "for x,y in train_dataloader:\n",
    "    bs = x.shape[0]\n",
    "    all_batches.append(x.flatten().reshape(bs,784))\n",
    "    all_labels.append(y)\n",
    "\n",
    "all_batches = torch.cat(all_batches,dim=0)\n",
    "all_labels = torch.cat(all_labels,dim=0)\n",
    "\n",
    "print(all_batches.shape)"
   ]
  },
  {
   "cell_type": "code",
   "execution_count": 111,
   "metadata": {},
   "outputs": [],
   "source": [
    "class Autoencoder(nn.Module):\n",
    "    def __init__(self):\n",
    "        super(Autoencoder, self).__init__()\n",
    "        \n",
    "        # Encoder\n",
    "        self.encoder = nn.Sequential(\n",
    "            nn.Linear(28 * 28, 128),\n",
    "            nn.ReLU(),\n",
    "            nn.Linear(128, 64),\n",
    "            nn.ReLU(),\n",
    "            nn.Linear(64, 32),\n",
    "            nn.ReLU(),\n",
    "            nn.Linear(32,16),\n",
    "            nn.ReLU(),\n",
    "            nn.Linear(16,2)\n",
    "              # Bottleneck\n",
    "        )\n",
    "        \n",
    "        # Decoder\n",
    "        self.decoder = nn.Sequential(\n",
    "            nn.Linear(2,16),\n",
    "            nn.ReLU(),\n",
    "            nn.Linear(16,32),\n",
    "            nn.ReLU(),\n",
    "            nn.Linear(32, 64),\n",
    "            nn.ReLU(),\n",
    "            nn.Linear(64, 128),\n",
    "            nn.ReLU(),\n",
    "            nn.Linear(128, 28 * 28),\n",
    "            nn.Sigmoid()  # Normalize output\n",
    "        )\n",
    "    \n",
    "    def forward(self, x):\n",
    "        x = self.encoder(x)\n",
    "        x = self.decoder(x)\n",
    "        return x\n",
    "    \n",
    "    def encode(self,x):\n",
    "        return self.encoder(x)\n"
   ]
  },
  {
   "cell_type": "code",
   "execution_count": 14,
   "metadata": {},
   "outputs": [],
   "source": [
    "selected_classes = [3, 7]\n",
    "indices = [i for i, (_, label) in enumerate(train_dataset) if label in selected_classes]\n",
    "custom_mnist = Subset(train_dataset, indices)\n",
    "\n",
    "train_dataloader= DataLoader(custom_mnist,batch_size=64,shuffle=True)"
   ]
  },
  {
   "cell_type": "code",
   "execution_count": 112,
   "metadata": {},
   "outputs": [
    {
     "name": "stdout",
     "output_type": "stream",
     "text": [
      "Epoch [1/30], Loss: 0.0617\n",
      "Epoch [2/30], Loss: 0.0431\n",
      "Epoch [3/30], Loss: 0.0377\n",
      "Epoch [4/30], Loss: 0.0359\n",
      "Epoch [5/30], Loss: 0.0348\n",
      "Epoch [6/30], Loss: 0.0344\n",
      "Epoch [7/30], Loss: 0.0339\n",
      "Epoch [8/30], Loss: 0.0338\n",
      "Epoch [9/30], Loss: 0.0338\n",
      "Epoch [10/30], Loss: 0.0337\n",
      "Epoch [11/30], Loss: 0.0335\n",
      "Epoch [12/30], Loss: 0.0333\n",
      "Epoch [13/30], Loss: 0.0333\n",
      "Epoch [14/30], Loss: 0.0331\n",
      "Epoch [15/30], Loss: 0.0331\n",
      "Epoch [16/30], Loss: 0.0330\n",
      "Epoch [17/30], Loss: 0.0329\n",
      "Epoch [18/30], Loss: 0.0329\n",
      "Epoch [19/30], Loss: 0.0330\n",
      "Epoch [20/30], Loss: 0.0328\n",
      "Epoch [21/30], Loss: 0.0326\n",
      "Epoch [22/30], Loss: 0.0332\n",
      "Epoch [23/30], Loss: 0.0330\n",
      "Epoch [24/30], Loss: 0.0327\n",
      "Epoch [25/30], Loss: 0.0324\n",
      "Epoch [26/30], Loss: 0.0322\n",
      "Epoch [27/30], Loss: 0.0320\n",
      "Epoch [28/30], Loss: 0.0320\n",
      "Epoch [29/30], Loss: 0.0319\n",
      "Epoch [30/30], Loss: 0.0318\n"
     ]
    }
   ],
   "source": [
    "device = torch.device(\"cuda\" if torch.cuda.is_available() else \"cpu\")\n",
    "\n",
    "model = Autoencoder().to(device)\n",
    "criterion = nn.MSELoss()\n",
    "optimizer = optim.Adam(model.parameters(), lr=0.005)\n",
    "\n",
    "num_epochs = 30\n",
    "\n",
    "for epoch in range(num_epochs):\n",
    "    running_loss = 0.0\n",
    "    for images, _ in train_dataloader:\n",
    "        images = images.view(images.size(0), -1).to(device) \n",
    "        optimizer.zero_grad()\n",
    "        outputs = model(images)\n",
    "        loss = criterion(outputs, images) \n",
    "        loss.backward()\n",
    "        optimizer.step()\n",
    "        running_loss += loss.item()\n",
    "    \n",
    "    print(f\"Epoch [{epoch+1}/{num_epochs}], Loss: {running_loss / len(train_dataloader):.4f}\")\n"
   ]
  },
  {
   "cell_type": "code",
   "execution_count": 113,
   "metadata": {},
   "outputs": [
    {
     "data": {
      "text/plain": [
       "<matplotlib.image.AxesImage at 0x714a318e4070>"
      ]
     },
     "execution_count": 113,
     "metadata": {},
     "output_type": "execute_result"
    },
    {
     "data": {
      "image/png": "[encoded data removed]",
      "text/plain": [
       "<Figure size 640x480 with 1 Axes>"
      ]
     },
     "metadata": {},
     "output_type": "display_data"
    }
   ],
   "source": [
    "plt.imshow(val_dataset.__getitem__(99)[0].view(1,-1).reshape(28,28))"
   ]
  },
  {
   "cell_type": "code",
   "execution_count": 127,
   "metadata": {},
   "outputs": [],
   "source": [
    "import pandas as pd\n",
    "import numpy as np"
   ]
  },
  {
   "cell_type": "code",
   "execution_count": 124,
   "metadata": {},
   "outputs": [],
   "source": [
    "v = []\n",
    "c = []\n",
    "for i,item in enumerate(val_dataset):\n",
    "    v.append(model.encode(item[0].view(1,-1).to(device)).detach().cpu().numpy())\n",
    "    c.append(item[1])\n",
    "#model.encode(val_dataset.__getitem__(0)[0].view(1,-1).to(device))"
   ]
  },
  {
   "cell_type": "code",
   "execution_count": null,
   "metadata": {},
   "outputs": [
    {
     "data": {
      "text/html": [
       "<div>\n",
       "<style scoped>\n",
       "    .dataframe tbody tr th:only-of-type {\n",
       "        vertical-align: middle;\n",
       "    }\n",
       "\n",
       "    .dataframe tbody tr th {\n",
       "        vertical-align: top;\n",
       "    }\n",
       "\n",
       "    .dataframe thead th {\n",
       "        text-align: right;\n",
       "    }\n",
       "</style>\n",
       "<table border=\"1\" class=\"dataframe\">\n",
       "  <thead>\n",
       "    <tr style=\"text-align: right;\">\n",
       "      <th></th>\n",
       "      <th>0</th>\n",
       "      <th>1</th>\n",
       "      <th>c</th>\n",
       "    </tr>\n",
       "  </thead>\n",
       "  <tbody>\n",
       "    <tr>\n",
       "      <th>0</th>\n",
       "      <td>1.478350</td>\n",
       "      <td>-0.889983</td>\n",
       "      <td>7</td>\n",
       "    </tr>\n",
       "    <tr>\n",
       "      <th>1</th>\n",
       "      <td>0.231463</td>\n",
       "      <td>1.286198</td>\n",
       "      <td>1</td>\n",
       "    </tr>\n",
       "    <tr>\n",
       "      <th>2</th>\n",
       "      <td>-0.484056</td>\n",
       "      <td>-0.174924</td>\n",
       "      <td>9</td>\n",
       "    </tr>\n",
       "    <tr>\n",
       "      <th>3</th>\n",
       "      <td>2.267948</td>\n",
       "      <td>8.568305</td>\n",
       "      <td>2</td>\n",
       "    </tr>\n",
       "    <tr>\n",
       "      <th>4</th>\n",
       "      <td>-5.306480</td>\n",
       "      <td>-5.150798</td>\n",
       "      <td>0</td>\n",
       "    </tr>\n",
       "  </tbody>\n",
       "</table>\n",
       "</div>"
      ],
      "text/plain": [
       "          0         1  c\n",
       "0  1.478350 -0.889983  7\n",
       "1  0.231463  1.286198  1\n",
       "2 -0.484056 -0.174924  9\n",
       "3  2.267948  8.568305  2\n",
       "4 -5.306480 -5.150798  0"
      ]
     },
     "execution_count": 134,
     "metadata": {},
     "output_type": "execute_result"
    }
   ],
   "source": [
    "df = pd.DataFrame(np.vstack(v))\n",
    "df['c'] = c"
   ]
  },
  {
   "cell_type": "code",
   "execution_count": 156,
   "metadata": {},
   "outputs": [
    {
     "data": {
      "text/plain": [
       "<Axes: xlabel='0', ylabel='1'>"
      ]
     },
     "execution_count": 156,
     "metadata": {},
     "output_type": "execute_result"
    },
    {
     "data": {
      "image/png": "[encoded data removed]",
      "text/plain": [
       "<Figure size 640x480 with 1 Axes>"
      ]
     },
     "metadata": {},
     "output_type": "display_data"
    }
   ],
   "source": [
    "df[df['c']==8].iloc[:,:2].plot.scatter(x=0,y=1)"
   ]
  },
  {
   "cell_type": "code",
   "execution_count": 116,
   "metadata": {},
   "outputs": [
    {
     "data": {
      "text/plain": [
       "<matplotlib.image.AxesImage at 0x714a317d23b0>"
      ]
     },
     "execution_count": 116,
     "metadata": {},
     "output_type": "execute_result"
    },
    {
     "data": {
      "image/png": "[encoded data removed]",
      "text/plain": [
       "<Figure size 640x480 with 1 Axes>"
      ]
     },
     "metadata": {},
     "output_type": "display_data"
    }
   ],
   "source": [
    "plt.imshow(model.forward(val_dataset.__getitem__(0)[0].view(1,-1).to(device)).reshape(28,28).detach().cpu().numpy())"
   ]
  },
  {
   "cell_type": "code",
   "execution_count": null,
   "metadata": {},
   "outputs": [
    {
     "data": {
      "text/plain": [
       "torch.Size([1, 784])"
      ]
     },
     "execution_count": 77,
     "metadata": {},
     "output_type": "execute_result"
    }
   ],
   "source": [
    "model.forward(val_dataset.__getitem__(10)[0].view(1,-1).to(device))"
   ]
  }
 ],
 "metadata": {
  "kernelspec": {
   "display_name": "drift",
   "language": "python",
   "name": "python3"
  },
  "language_info": {
   "codemirror_mode": {
    "name": "ipython",
    "version": 3
   },
   "file_extension": ".py",
   "mimetype": "text/x-python",
   "name": "python",
   "nbconvert_exporter": "python",
   "pygments_lexer": "ipython3",
   "version": "3.10.16"
  }
 },
 "nbformat": 4,
 "nbformat_minor": 2
}
